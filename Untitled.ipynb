{
 "cells": [
  {
   "cell_type": "code",
   "execution_count": 1,
   "id": "cc42bfd1-beca-4fa0-81b5-e1f03421b6ff",
   "metadata": {},
   "outputs": [
    {
     "name": "stdout",
     "output_type": "stream",
     "text": [
      "WARNING:tensorflow:From C:\\Users\\kotha\\AppData\\Roaming\\Python\\Python311\\site-packages\\keras\\src\\losses.py:2976: The name tf.losses.sparse_softmax_cross_entropy is deprecated. Please use tf.compat.v1.losses.sparse_softmax_cross_entropy instead.\n",
      "\n"
     ]
    }
   ],
   "source": [
    "import tensorflow as tf"
   ]
  },
  {
   "cell_type": "code",
   "execution_count": 4,
   "id": "a296c0c8-5f5a-41eb-bdbe-6b101284e5b0",
   "metadata": {},
   "outputs": [
    {
     "name": "stdout",
     "output_type": "stream",
     "text": [
      "Found 1075 files belonging to 6 classes.\n"
     ]
    }
   ],
   "source": [
    "dataset = tf.keras.preprocessing.image_dataset_from_directory(\n",
    "    \"Final 1\",\n",
    "    shuffle=True,\n",
    "    batch_size=32,\n",
    "    image_size=(299, 299),\n",
    ")"
   ]
  },
  {
   "cell_type": "code",
   "execution_count": 5,
   "id": "e14dcdda-665f-468e-bf3a-af4192bedbf3",
   "metadata": {},
   "outputs": [
    {
     "data": {
      "text/plain": [
       "['dental caries',\n",
       " 'enamel erosion',\n",
       " 'gum disease',\n",
       " 'oral cancer',\n",
       " 'sencitive teeth',\n",
       " 'tooth loss']"
      ]
     },
     "execution_count": 5,
     "metadata": {},
     "output_type": "execute_result"
    }
   ],
   "source": [
    "labels = dataset.class_names\n",
    "labels\n"
   ]
  },
  {
   "cell_type": "code",
   "execution_count": 6,
   "id": "c7ffbec3-4d65-49f9-b7c0-e987926f126c",
   "metadata": {},
   "outputs": [
    {
     "name": "stdout",
     "output_type": "stream",
     "text": [
      "(32, 299, 299, 3)\n",
      "[4 4 0 4 1 3 2 0 1 3 4 2 1 4 0 5 4 2 1 3 5 5 3 0 1 0 1 5 3 1 2 2]\n"
     ]
    }
   ],
   "source": [
    "import numpy as np\n",
    "\n",
    "for image_batch, labels_batch in dataset.take(1):\n",
    "    print(image_batch.shape)\n",
    "    print(labels_batch.numpy())\n",
    "    break"
   ]
  },
  {
   "cell_type": "code",
   "execution_count": 7,
   "id": "f172e808-a755-4b0d-a7a5-753acfee12c6",
   "metadata": {},
   "outputs": [
    {
     "data": {
      "text/plain": [
       "(27, 6)"
      ]
     },
     "execution_count": 7,
     "metadata": {},
     "output_type": "execute_result"
    }
   ],
   "source": [
    "# train test split\n",
    "train_size = int(0.8 * len(dataset))\n",
    "test_size = int(0.2 * len(dataset))\n",
    "train_size, test_size"
   ]
  },
  {
   "cell_type": "code",
   "execution_count": 8,
   "id": "9a7dd8cd-fb59-4e27-b27a-749e14b33262",
   "metadata": {},
   "outputs": [],
   "source": [
    "def get_dataset_partisions_tf(ds, train_split=0.8, test_split=0.2, shuffle=True, shuffle_size=10000):\n",
    "    if shuffle:\n",
    "        ds = ds.shuffle(shuffle_size, seed=12)\n",
    "    train_size = int(train_split * len(ds))\n",
    "    test_size = int(test_split * len(ds))\n",
    "    train_ds = ds.take(train_size)\n",
    "    test_ds = ds.skip(train_size)\n",
    "    val_ds = test_ds.skip(test_size)\n",
    "    test_ds = test_ds.take(test_size)\n",
    "    return train_ds, test_ds, val_ds\n"
   ]
  },
  {
   "cell_type": "code",
   "execution_count": 9,
   "id": "71157bd8-e232-43d8-9804-e52e2b848e4d",
   "metadata": {},
   "outputs": [
    {
     "data": {
      "text/plain": [
       "(27, 6, 1)"
      ]
     },
     "execution_count": 9,
     "metadata": {},
     "output_type": "execute_result"
    }
   ],
   "source": [
    "train_ds, test_ds, val_ds = get_dataset_partisions_tf(dataset)\n",
    "len(train_ds), len(test_ds), len(val_ds)"
   ]
  },
  {
   "cell_type": "code",
   "execution_count": 10,
   "id": "f7310369-0013-4ac1-a4b7-b416f2f64df7",
   "metadata": {},
   "outputs": [
    {
     "name": "stdout",
     "output_type": "stream",
     "text": [
      "WARNING:tensorflow:From C:\\Users\\kotha\\AppData\\Roaming\\Python\\Python311\\site-packages\\keras\\src\\backend.py:873: The name tf.get_default_graph is deprecated. Please use tf.compat.v1.get_default_graph instead.\n",
      "\n"
     ]
    }
   ],
   "source": [
    "resize_and_rescale = tf.keras.Sequential([\n",
    "    tf.keras.layers.experimental.preprocessing.Resizing(299, 299),\n",
    "    tf.keras.layers.experimental.preprocessing.Rescaling(1./255)\n",
    "])"
   ]
  },
  {
   "cell_type": "code",
   "execution_count": 11,
   "id": "10e7eb1b-b6ad-40dd-a7ef-84b8a186ccc0",
   "metadata": {},
   "outputs": [
    {
     "name": "stdout",
     "output_type": "stream",
     "text": [
      "WARNING:tensorflow:From C:\\Users\\kotha\\AppData\\Roaming\\Python\\Python311\\site-packages\\keras\\src\\layers\\normalization\\batch_normalization.py:979: The name tf.nn.fused_batch_norm is deprecated. Please use tf.compat.v1.nn.fused_batch_norm instead.\n",
      "\n",
      "Downloading data from https://storage.googleapis.com/tensorflow/keras-applications/xception/xception_weights_tf_dim_ordering_tf_kernels_notop.h5\n",
      "83683744/83683744 [==============================] - 33s 0us/step\n"
     ]
    }
   ],
   "source": [
    "# train using Xception\n",
    "base_model = tf.keras.applications.Xception(\n",
    "    weights='imagenet',\n",
    "    input_shape=(299, 299, 3),\n",
    "    include_top=False,\n",
    "    pooling='avg',\n",
    "    classifier_activation='softmax',\n",
    "    classes=len(labels)\n",
    ")\n",
    "base_model.trainable = False"
   ]
  },
  {
   "cell_type": "code",
   "execution_count": 12,
   "id": "0bfde7b8-9be9-48b3-a465-82a9ac1e8e71",
   "metadata": {},
   "outputs": [
    {
     "name": "stdout",
     "output_type": "stream",
     "text": [
      "WARNING:tensorflow:From C:\\Users\\kotha\\AppData\\Roaming\\Python\\Python311\\site-packages\\keras\\src\\optimizers\\__init__.py:309: The name tf.train.Optimizer is deprecated. Please use tf.compat.v1.train.Optimizer instead.\n",
      "\n",
      "Model: \"model\"\n",
      "_________________________________________________________________\n",
      " Layer (type)                Output Shape              Param #   \n",
      "=================================================================\n",
      " input_2 (InputLayer)        [(None, 299, 299, 3)]     0         \n",
      "                                                                 \n",
      " sequential (Sequential)     (None, 299, 299, 3)       0         \n",
      "                                                                 \n",
      " xception (Functional)       (None, 2048)              20861480  \n",
      "                                                                 \n",
      " dense (Dense)               (None, 128)               262272    \n",
      "                                                                 \n",
      " dropout (Dropout)           (None, 128)               0         \n",
      "                                                                 \n",
      " dense_1 (Dense)             (None, 6)                 774       \n",
      "                                                                 \n",
      "=================================================================\n",
      "Total params: 21124526 (80.58 MB)\n",
      "Trainable params: 263046 (1.00 MB)\n",
      "Non-trainable params: 20861480 (79.58 MB)\n",
      "_________________________________________________________________\n",
      "Epoch 1/25\n",
      "WARNING:tensorflow:From C:\\Users\\kotha\\AppData\\Roaming\\Python\\Python311\\site-packages\\keras\\src\\utils\\tf_utils.py:492: The name tf.ragged.RaggedTensorValue is deprecated. Please use tf.compat.v1.ragged.RaggedTensorValue instead.\n",
      "\n",
      "WARNING:tensorflow:From C:\\Users\\kotha\\AppData\\Roaming\\Python\\Python311\\site-packages\\keras\\src\\engine\\base_layer_utils.py:384: The name tf.executing_eagerly_outside_functions is deprecated. Please use tf.compat.v1.executing_eagerly_outside_functions instead.\n",
      "\n",
      "27/27 [==============================] - 130s 4s/step - loss: 1.7764 - accuracy: 0.2037 - val_loss: 1.6779 - val_accuracy: 0.1875\n",
      "Epoch 2/25\n",
      "27/27 [==============================] - 125s 4s/step - loss: 1.6544 - accuracy: 0.2832 - val_loss: 1.6167 - val_accuracy: 0.3438\n",
      "Epoch 3/25\n",
      "27/27 [==============================] - 123s 4s/step - loss: 1.6140 - accuracy: 0.3044 - val_loss: 1.4969 - val_accuracy: 0.4375\n",
      "Epoch 4/25\n",
      "27/27 [==============================] - 121s 4s/step - loss: 1.5672 - accuracy: 0.3467 - val_loss: 1.4589 - val_accuracy: 0.4062\n",
      "Epoch 5/25\n",
      "27/27 [==============================] - 122s 4s/step - loss: 1.5722 - accuracy: 0.2998 - val_loss: 1.4448 - val_accuracy: 0.3438\n",
      "Epoch 6/25\n",
      "27/27 [==============================] - 122s 4s/step - loss: 1.4776 - accuracy: 0.3772 - val_loss: 1.3171 - val_accuracy: 0.6562\n",
      "Epoch 7/25\n",
      "27/27 [==============================] - 124s 4s/step - loss: 1.4795 - accuracy: 0.3704 - val_loss: 1.4767 - val_accuracy: 0.3750\n",
      "Epoch 8/25\n",
      "27/27 [==============================] - 419s 4s/step - loss: 1.4432 - accuracy: 0.3972 - val_loss: 1.3207 - val_accuracy: 0.6250\n",
      "Epoch 9/25\n",
      "27/27 [==============================] - 124s 4s/step - loss: 1.4003 - accuracy: 0.4294 - val_loss: 1.2453 - val_accuracy: 0.5000\n",
      "Epoch 10/25\n",
      "27/27 [==============================] - 121s 4s/step - loss: 1.3805 - accuracy: 0.4219 - val_loss: 1.2166 - val_accuracy: 0.5000\n",
      "Epoch 11/25\n",
      "27/27 [==============================] - 122s 4s/step - loss: 1.3333 - accuracy: 0.4724 - val_loss: 1.2957 - val_accuracy: 0.5312\n",
      "Epoch 12/25\n",
      "27/27 [==============================] - 232s 9s/step - loss: 1.3656 - accuracy: 0.4313 - val_loss: 1.0983 - val_accuracy: 0.7188\n",
      "Epoch 13/25\n",
      "27/27 [==============================] - 116s 4s/step - loss: 1.3023 - accuracy: 0.4583 - val_loss: 1.2850 - val_accuracy: 0.4062\n",
      "Epoch 14/25\n",
      "27/27 [==============================] - 122s 4s/step - loss: 1.2997 - accuracy: 0.4850 - val_loss: 1.0580 - val_accuracy: 0.7188\n",
      "Epoch 15/25\n",
      "27/27 [==============================] - 121s 4s/step - loss: 1.2529 - accuracy: 0.5197 - val_loss: 1.2962 - val_accuracy: 0.5263\n",
      "Epoch 16/25\n",
      "27/27 [==============================] - 121s 4s/step - loss: 1.2327 - accuracy: 0.5382 - val_loss: 1.1445 - val_accuracy: 0.5625\n",
      "Epoch 17/25\n",
      "27/27 [==============================] - 124s 4s/step - loss: 1.2054 - accuracy: 0.5486 - val_loss: 1.1284 - val_accuracy: 0.6250\n",
      "Epoch 18/25\n",
      "27/27 [==============================] - 126s 5s/step - loss: 1.2003 - accuracy: 0.5347 - val_loss: 1.2878 - val_accuracy: 0.5312\n",
      "Epoch 19/25\n",
      "27/27 [==============================] - 123s 4s/step - loss: 1.1477 - accuracy: 0.5652 - val_loss: 1.1695 - val_accuracy: 0.5312\n",
      "Epoch 20/25\n",
      "27/27 [==============================] - 123s 4s/step - loss: 1.1342 - accuracy: 0.5852 - val_loss: 1.0206 - val_accuracy: 0.6875\n",
      "Epoch 21/25\n",
      "27/27 [==============================] - 125s 4s/step - loss: 1.1061 - accuracy: 0.5880 - val_loss: 1.0420 - val_accuracy: 0.7188\n",
      "Epoch 22/25\n",
      "27/27 [==============================] - 330s 12s/step - loss: 1.0614 - accuracy: 0.5981 - val_loss: 1.0530 - val_accuracy: 0.5625\n",
      "Epoch 23/25\n",
      "27/27 [==============================] - 115s 4s/step - loss: 1.0387 - accuracy: 0.6416 - val_loss: 1.2361 - val_accuracy: 0.5312\n",
      "Epoch 24/25\n",
      "27/27 [==============================] - 120s 4s/step - loss: 1.0341 - accuracy: 0.6263 - val_loss: 1.0984 - val_accuracy: 0.5312\n",
      "Epoch 25/25\n",
      "27/27 [==============================] - 123s 4s/step - loss: 1.0328 - accuracy: 0.6322 - val_loss: 0.7816 - val_accuracy: 0.9062\n"
     ]
    }
   ],
   "source": [
    "inputs = tf.keras.Input(shape=(299, 299, 3))\n",
    "x = resize_and_rescale(inputs)\n",
    "x = base_model(x, training=False)\n",
    "x = tf.keras.layers.Dense(128, activation='relu')(x)\n",
    "x = tf.keras.layers.Dropout(0.2)(x)\n",
    "outputs = tf.keras.layers.Dense(len(labels), activation='softmax')(x)\n",
    "model = tf.keras.Model(inputs, outputs)\n",
    "\n",
    "model.compile(\n",
    "    optimizer='adam',\n",
    "    loss='sparse_categorical_crossentropy',\n",
    "    metrics=['accuracy']\n",
    ")\n",
    "\n",
    "model.summary()\n",
    "\n",
    "history = model.fit(\n",
    "    train_ds,\n",
    "    validation_data=val_ds,\n",
    "    batch_size=32,\n",
    "    epochs=25\n",
    ")\n"
   ]
  },
  {
   "cell_type": "code",
   "execution_count": 16,
   "id": "d26b1e4f-0372-47dc-9fc7-d28b48fe1268",
   "metadata": {},
   "outputs": [
    {
     "name": "stdout",
     "output_type": "stream",
     "text": [
      "1/1 [==============================] - 1s 1s/step\n",
      "This image most likely belongs to gum disease with a 63.69 percent confidence.\n"
     ]
    }
   ],
   "source": [
    "# predict with new images\n",
    "import numpy as np\n",
    "\n",
    "img = tf.keras.preprocessing.image.load_img(\n",
    "    'Final 1/gum disease/490.JPG', target_size=(299, 299)\n",
    ")\n",
    "img_array = tf.keras.preprocessing.image.img_to_array(img)\n",
    "img_array = tf.expand_dims(img_array, 0)  # Create a batch\n",
    "\n",
    "\n",
    "predictions = model.predict(img_array)\n",
    "score = tf.nn.sigmoid(predictions[0])\n",
    "print(\n",
    "    \"This image most likely belongs to {} with a {:.2f} percent confidence.\"\n",
    "    .format(labels[np.argmax(score)], 100 * np.max(score))\n",
    ")"
   ]
  },
  {
   "cell_type": "code",
   "execution_count": 14,
   "id": "cf282437-513d-45ab-a181-f8c217f7594f",
   "metadata": {},
   "outputs": [
    {
     "data": {
      "image/png": "[encoded data removed]",
      "text/plain": [
       "<Figure size 640x480 with 1 Axes>"
      ]
     },
     "metadata": {},
     "output_type": "display_data"
    }
   ],
   "source": [
    "import matplotlib.pyplot as plt\n",
    "\n",
    "plt.plot(history.history['accuracy'])\n",
    "plt.plot(history.history['val_accuracy'])\n",
    "\n",
    "plt.title('model accuracy')\n",
    "plt.ylabel('accuracy')\n",
    "plt.xlabel('epoch')\n",
    "plt.legend(['train', 'val'], loc='upper left')\n",
    "plt.show()"
   ]
  },
  {
   "cell_type": "code",
   "execution_count": 15,
   "id": "6f4de93d-411d-4b11-8681-b0b2e62591bb",
   "metadata": {},
   "outputs": [],
   "source": [
    "model.save('dental.keras')"
   ]
  }
 ],
 "metadata": {
  "kernelspec": {
   "display_name": "Python 3 (ipykernel)",
   "language": "python",
   "name": "python3"
  },
  "language_info": {
   "codemirror_mode": {
    "name": "ipython",
    "version": 3
   },
   "file_extension": ".py",
   "mimetype": "text/x-python",
   "name": "python",
   "nbconvert_exporter": "python",
   "pygments_lexer": "ipython3",
   "version": "3.11.5"
  }
 },
 "nbformat": 4,
 "nbformat_minor": 5
}
